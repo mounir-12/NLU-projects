{
 "cells": [
  {
   "cell_type": "code",
   "execution_count": 1,
   "metadata": {},
   "outputs": [
    {
     "name": "stderr",
     "output_type": "stream",
     "text": [
      "WARNING (theano.tensor.blas): Using NumPy C-API based implementation for BLAS functions.\n"
     ]
    },
    {
     "name": "stdout",
     "output_type": "stream",
     "text": [
      "[nltk_data] Downloading package punkt to /home/ubuntu/nltk_data...\n",
      "[nltk_data]   Package punkt is already up-to-date!\n"
     ]
    },
    {
     "name": "stderr",
     "output_type": "stream",
     "text": [
      "/home/ubuntu/anaconda3/lib/python3.6/site-packages/h5py/__init__.py:36: FutureWarning: Conversion of the second argument of issubdtype from `float` to `np.floating` is deprecated. In future, it will be treated as `np.float64 == np.dtype(float).type`.\n",
      "  from ._conv import register_converters as _register_converters\n",
      "Using TensorFlow backend.\n"
     ]
    }
   ],
   "source": [
    "import pandas as pd\n",
    "from IPython.display import display\n",
    "import skipthoughts\n",
    "import numpy as np\n",
    "import time\n",
    "import math\n",
    "import keras\n",
    "import tensorflow as tf\n",
    "from keras.models import Sequential\n",
    "from keras.layers import Dense\n",
    "from sklearn.metrics import accuracy_score as accuracy\n",
    "tf.set_random_seed(5)\n",
    "np.random.seed(5)"
   ]
  },
  {
   "cell_type": "code",
   "execution_count": null,
   "metadata": {},
   "outputs": [],
   "source": [
    "# Provided training data\n",
    "train = pd.read_csv('data/train_stories.csv')\n",
    "val = pd.read_csv('data/cloze_test_val__spring2016 - cloze_test_ALL_val.csv')\n",
    "test = pd.read_csv('data/cloze_test_test__spring2016 - cloze_test_ALL_test.csv')\n",
    "\n",
    "train = train.drop(\"storytitle\", axis=1).drop(\"storyid\", axis=1)\n",
    "\n",
    "val = val.drop(\"InputStoryid\", axis=1)\n",
    "val_answer = val[\"AnswerRightEnding\"]\n",
    "val_sentences = val.drop(\"AnswerRightEnding\", axis=1)\n",
    "\n",
    "test = test.drop(\"InputStoryid\", axis=1)\n",
    "test_answer = test[\"AnswerRightEnding\"]\n",
    "test_sentences = test.drop(\"AnswerRightEnding\", axis=1)\n",
    "\n",
    "display(train.head())\n",
    "\n",
    "display(val_sentences.head())\n",
    "display(val_answer.head())\n",
    "\n",
    "display(test_sentences.head())\n",
    "display(test_answer.head())"
   ]
  },
  {
   "cell_type": "markdown",
   "metadata": {},
   "source": [
    "## Skipthoughts model from: https://github.com/ryankiros/skip-thoughts"
   ]
  },
  {
   "cell_type": "code",
   "execution_count": 3,
   "metadata": {},
   "outputs": [
    {
     "name": "stdout",
     "output_type": "stream",
     "text": [
      "Loading model ...\n",
      "Loading model parameters...\n",
      "Compiling encoders...\n",
      "Loading tables...\n",
      "Packing up...\n",
      "Done in 39.923095703125 s\n"
     ]
    }
   ],
   "source": [
    "a = time.time()\n",
    "print(\"Loading model ...\")\n",
    "model = skipthoughts.load_model()\n",
    "encoder = skipthoughts.Encoder(model)\n",
    "print(\"Done in {} s\".format(time.time() - a))"
   ]
  },
  {
   "cell_type": "code",
   "execution_count": 4,
   "metadata": {},
   "outputs": [],
   "source": [
    "# a = time.time()\n",
    "# print(\"Reading stories to memory ...\")\n",
    "# stories = []\n",
    "# stories_flat = []\n",
    "# for index, row in train.iterrows():\n",
    "#     story = []\n",
    "#     for col in train.columns:\n",
    "#         story.append(row[col])\n",
    "#         stories_flat.append(row[col])\n",
    "#     stories.append(story)\n",
    "# print(\"Done in {} s\".format(time.time() - a))"
   ]
  },
  {
   "cell_type": "code",
   "execution_count": 5,
   "metadata": {},
   "outputs": [],
   "source": [
    "# print(\"Nb of stories:\", len(stories))\n",
    "# print(\"Example story:\", stories[0])\n",
    "# print(\"Nb of sentences per story:\", len(stories[0]))"
   ]
  },
  {
   "cell_type": "code",
   "execution_count": 6,
   "metadata": {},
   "outputs": [],
   "source": [
    "# # testing skipthoughts encoder\n",
    "# a = time.time()\n",
    "# print(\"Encoding story ...\")\n",
    "# vectors = encoder.encode(stories[0], verbose=False)\n",
    "# print(\"Done in {} s\".format(time.time() - a))\n",
    "# print(\"Encoded story:\\n\", vectors)\n",
    "# print(type(vectors))\n",
    "# print(vectors.shape)"
   ]
  },
  {
   "cell_type": "code",
   "execution_count": 7,
   "metadata": {},
   "outputs": [],
   "source": [
    "# # encoding only some sentences of the story to see if the same encoding outputted\n",
    "# a = time.time()\n",
    "# print(\"Encoding part of story ...\")\n",
    "# vectors = encoder.encode(stories[0][0:3], verbose=False)\n",
    "# print(\"Done in {} s\".format(time.time() - a))\n",
    "# print(\"Encoded story:\\n\", vectors)\n",
    "# print(type(vectors))\n",
    "# print(vectors.shape)"
   ]
  },
  {
   "cell_type": "code",
   "execution_count": 8,
   "metadata": {},
   "outputs": [],
   "source": [
    "# encoded_sentences = np.zeros([len(stories_flat), 4800]) # each story having 5 sentences, each sentence encoded to a \n",
    "#                                                     # 4800-dim vector\n",
    "\n",
    "# print(encoded_sentences)\n",
    "# encoding_batch_size = 2000\n",
    "# nb_batches = int(math.ceil(len(stories_flat) / encoding_batch_size))\n",
    "# print(\"nb sentences per batch: {}, nb batches: {}\".format(encoding_batch_size, nb_batches))\n",
    "# for i in range(nb_batches):\n",
    "#     a = time.time()\n",
    "#     print(\"Encoding batch {} of sentences ...\".format(i))\n",
    "#     encoded_sentences[i*encoding_batch_size : (i+1)*encoding_batch_size] = encoder.encode(stories_flat[i*encoding_batch_size : (i+1)*encoding_batch_size], verbose=False)\n",
    "#     print(\"Done in {} s\".format(time.time() - a))\n",
    "# print(encoded_sentences)"
   ]
  },
  {
   "cell_type": "code",
   "execution_count": 9,
   "metadata": {},
   "outputs": [],
   "source": [
    "# encoded_stories = encoded_sentences.reshape([-1, 5, 4800])\n",
    "# print(encoded_stories.shape)"
   ]
  },
  {
   "cell_type": "code",
   "execution_count": 10,
   "metadata": {},
   "outputs": [],
   "source": [
    "def get_stories_as_lists(dataframe):\n",
    "    a = time.time()\n",
    "    print(\"Reading stories to memory ...\")\n",
    "    stories = []\n",
    "    stories_flat = []\n",
    "    for index, row in dataframe.iterrows():\n",
    "        story = []\n",
    "        for col in dataframe.columns:\n",
    "            story.append(row[col])\n",
    "            stories_flat.append(row[col])\n",
    "        stories.append(story)\n",
    "    print(\"Done in {} s\".format(time.time() - a))\n",
    "    return stories, stories_flat\n",
    "\n",
    "def encode_stories(encoder, stories_flat, encoding_batch_size=2000):\n",
    "    encoded_sentences = np.zeros([len(stories_flat), 4800]) # each sentence encoded to a 4800-dim vector\n",
    "\n",
    "    nb_batches = int(math.ceil(len(stories_flat) / encoding_batch_size))\n",
    "    print(\"nb sentences per batch: {}, nb batches: {}\".format(encoding_batch_size, nb_batches))\n",
    "    for i in range(nb_batches):\n",
    "        a = time.time()\n",
    "        print(\"Encoding batch {} of sentences ...\".format(i))\n",
    "        encoded_sentences[i*encoding_batch_size : (i+1)*encoding_batch_size] = encoder.encode(stories_flat[i*encoding_batch_size : (i+1)*encoding_batch_size], verbose=False)\n",
    "        print(\"Done in {} s\".format(time.time() - a))\n",
    "    return encoded_sentences.reshape([-1, 6, 4800])\n",
    "\n",
    "def get_train_valid_split(x_data, y_data, valid_percent=0.1, shuffle=True):\n",
    "    data_size = x_data.shape[0]\n",
    "    if shuffle:\n",
    "        shuffle_indices = np.random.permutation(np.arange(data_size))\n",
    "        x_data = x_data[shuffle_indices]\n",
    "        y_data = y_data[shuffle_indices]\n",
    "    split_index = int((1-valid_percent)*data_size)\n",
    "    return x_data[:split_index], x_data[split_index:], y_data[:split_index], y_data[split_index:]\n",
    "\n",
    "def split_pos_neg_endings(encoded_stories):\n",
    "    encoded_stories_context = encoded_stories[:, 0:4] # first 4 sentences (i,e the context) \n",
    "    print(encoded_stories_context.shape)\n",
    "    encoded_stories_context = np.repeat(encoded_stories_context, 2, axis=0) # repeat each context twice (once per possible ending)\n",
    "    print(encoded_stories_context.shape)\n",
    "    encoded_stories_endings = encoded_stories[:, 4:6] # the 2 possible endings\n",
    "    print(encoded_stories_endings.shape)\n",
    "    encoded_stories_endings = encoded_stories_endings.reshape([-1, 1, 4800]) # one ending per row\n",
    "    print(encoded_stories_endings.shape)\n",
    "    encoded_stories_split = np.concatenate([encoded_stories_context, encoded_stories_endings], axis=1)\n",
    "    print(encoded_stories_split.shape)\n",
    "    return encoded_stories_split\n",
    "\n",
    "def create_stories_labels(answers):\n",
    "    answers_split = np.zeros([2*answers.shape[0], 1])\n",
    "    print(\"Answers shape:\", answers_split.shape)\n",
    "    for i,answer in enumerate(answers):\n",
    "        if answer == 1:\n",
    "            answers_split[2*i] = 1.\n",
    "            answers_split[2*i+1] = 0.\n",
    "        else: # answer == 2\n",
    "            answers_split[2*i] = 0.\n",
    "            answers_split[2*i+1] = 1.\n",
    "    return answers_split"
   ]
  },
  {
   "cell_type": "code",
   "execution_count": null,
   "metadata": {},
   "outputs": [],
   "source": [
    "# --------------------------------------------- Labeled Train Data -----------------------------------------------"
   ]
  },
  {
   "cell_type": "code",
   "execution_count": 11,
   "metadata": {},
   "outputs": [
    {
     "name": "stdout",
     "output_type": "stream",
     "text": [
      "Reading stories to memory ...\n",
      "Done in 0.20423507690429688 s\n"
     ]
    }
   ],
   "source": [
    "val_stories, val_stories_flat = get_stories_as_lists(val_sentences)"
   ]
  },
  {
   "cell_type": "code",
   "execution_count": 12,
   "metadata": {},
   "outputs": [
    {
     "name": "stdout",
     "output_type": "stream",
     "text": [
      "Nb of stories: 1871\n",
      "Example story with right and wrong ending: ['Rick grew up in a troubled household.', 'He never found good support in family, and turned to gangs.', \"It wasn't long before Rick got shot in a robbery.\", 'The incident caused him to turn a new leaf.', 'He is happy now.', 'He joined a gang.']\n",
      "Nb of sentences per story: 6\n"
     ]
    }
   ],
   "source": [
    "print(\"Nb of stories:\", len(val_stories))\n",
    "print(\"Example story with right and wrong ending:\", val_stories[0])\n",
    "print(\"Nb of sentences per story:\", len(val_stories[0]))"
   ]
  },
  {
   "cell_type": "code",
   "execution_count": 13,
   "metadata": {},
   "outputs": [
    {
     "name": "stdout",
     "output_type": "stream",
     "text": [
      "nb sentences per batch: 2000, nb batches: 6\n",
      "Encoding batch 0 of sentences ...\n",
      "Done in 23.839473724365234 s\n",
      "Encoding batch 1 of sentences ...\n",
      "Done in 23.39590334892273 s\n",
      "Encoding batch 2 of sentences ...\n",
      "Done in 22.656227350234985 s\n",
      "Encoding batch 3 of sentences ...\n",
      "Done in 23.053677558898926 s\n",
      "Encoding batch 4 of sentences ...\n",
      "Done in 23.683773040771484 s\n",
      "Encoding batch 5 of sentences ...\n",
      "Done in 14.791567325592041 s\n",
      "(1871, 6, 4800)\n",
      "[[ 0.00013156 -0.00460475  0.00544821 ... -0.01273214  0.00150634\n",
      "  -0.00127442]\n",
      " [-0.00038869 -0.03386274 -0.00209803 ... -0.02370408  0.00628775\n",
      "   0.00622181]\n",
      " [ 0.00784618  0.02995787 -0.00370612 ... -0.01775567  0.00297994\n",
      "   0.01153545]\n",
      " [-0.00213756 -0.00957396 -0.00261727 ... -0.01276501  0.00276876\n",
      "  -0.00384201]\n",
      " [-0.00714206 -0.0227032   0.01572856 ... -0.00376865  0.00276918\n",
      "   0.00608158]\n",
      " [ 0.00167412 -0.01099871 -0.00196931 ... -0.03177596  0.0022835\n",
      "   0.00621052]]\n"
     ]
    }
   ],
   "source": [
    "val_encoded_stories = encode_stories(encoder, val_stories_flat)\n",
    "print(val_encoded_stories.shape)\n",
    "print(val_encoded_stories[0]) # print story 0 (both endings in the 5th and 6th sentence)"
   ]
  },
  {
   "cell_type": "code",
   "execution_count": 14,
   "metadata": {},
   "outputs": [
    {
     "name": "stdout",
     "output_type": "stream",
     "text": [
      "(1683, 6, 4800)\n",
      "(1683,)\n",
      "(188, 6, 4800)\n",
      "(188,)\n",
      "[[ 0.00257789 -0.01078219 -0.00668491 ... -0.03345989  0.00243997\n",
      "   0.00695168]\n",
      " [ 0.00311376 -0.02050668  0.01805543 ... -0.00992052  0.00328235\n",
      "   0.00122506]\n",
      " [ 0.00829043 -0.01595514 -0.00169544 ... -0.00554999  0.00448585\n",
      "  -0.00629614]\n",
      " [ 0.01419469 -0.02284871 -0.00301768 ...  0.00108492  0.00252766\n",
      "  -0.005558  ]\n",
      " [ 0.00201218 -0.02382531  0.01359426 ... -0.01885595  0.00522397\n",
      "   0.00062915]\n",
      " [ 0.00917428 -0.00796457  0.00079475 ... -0.03304717  0.00208425\n",
      "   0.00075519]]\n"
     ]
    }
   ],
   "source": [
    "res = get_train_valid_split(val_encoded_stories, np.array(val_answer), valid_percent=0.1, shuffle=True)\n",
    "train_stories, valid_stories, train_answers, valid_answers = res\n",
    "print(train_stories.shape)\n",
    "print(train_answers.shape)\n",
    "print(valid_stories.shape)\n",
    "print(valid_answers.shape)\n",
    "print(train_stories[0]) # print train story 0 (both endings in the 5th and 6th sentence)"
   ]
  },
  {
   "cell_type": "code",
   "execution_count": 15,
   "metadata": {},
   "outputs": [
    {
     "name": "stdout",
     "output_type": "stream",
     "text": [
      "(1683, 4, 4800)\n",
      "(3366, 4, 4800)\n",
      "(1683, 2, 4800)\n",
      "(3366, 1, 4800)\n",
      "(3366, 5, 4800)\n",
      "[[[ 0.00257789 -0.01078219 -0.00668491 ... -0.03345989  0.00243997\n",
      "    0.00695168]\n",
      "  [ 0.00311376 -0.02050668  0.01805543 ... -0.00992052  0.00328235\n",
      "    0.00122506]\n",
      "  [ 0.00829043 -0.01595514 -0.00169544 ... -0.00554999  0.00448585\n",
      "   -0.00629614]\n",
      "  [ 0.01419469 -0.02284871 -0.00301768 ...  0.00108492  0.00252766\n",
      "   -0.005558  ]\n",
      "  [ 0.00201218 -0.02382531  0.01359426 ... -0.01885595  0.00522397\n",
      "    0.00062915]]\n",
      "\n",
      " [[ 0.00257789 -0.01078219 -0.00668491 ... -0.03345989  0.00243997\n",
      "    0.00695168]\n",
      "  [ 0.00311376 -0.02050668  0.01805543 ... -0.00992052  0.00328235\n",
      "    0.00122506]\n",
      "  [ 0.00829043 -0.01595514 -0.00169544 ... -0.00554999  0.00448585\n",
      "   -0.00629614]\n",
      "  [ 0.01419469 -0.02284871 -0.00301768 ...  0.00108492  0.00252766\n",
      "   -0.005558  ]\n",
      "  [ 0.00917428 -0.00796457  0.00079475 ... -0.03304717  0.00208425\n",
      "    0.00075519]]]\n",
      "Answers shape: (3366, 1)\n",
      "[[1.]\n",
      " [0.]\n",
      " [1.]\n",
      " [0.]\n",
      " [1.]\n",
      " [0.]\n",
      " [1.]\n",
      " [0.]\n",
      " [1.]\n",
      " [0.]]\n"
     ]
    }
   ],
   "source": [
    "train_stories_split = split_pos_neg_endings(train_stories)\n",
    "print(train_stories_split[0:2]) # print same story as before with right and wrong endings on different rows\n",
    "train_answers_split = create_stories_labels(train_answers) # 0 means the corresponding story in train_stories_split \n",
    "                                                      # has a wrong ending, and 1 means it has a right ending\n",
    "print(train_answers_split[0:10])"
   ]
  },
  {
   "cell_type": "code",
   "execution_count": 16,
   "metadata": {},
   "outputs": [
    {
     "name": "stdout",
     "output_type": "stream",
     "text": [
      "(188, 4, 4800)\n",
      "(376, 4, 4800)\n",
      "(188, 2, 4800)\n",
      "(376, 1, 4800)\n",
      "(376, 5, 4800)\n"
     ]
    }
   ],
   "source": [
    "valid_stories_split = split_pos_neg_endings(valid_stories)"
   ]
  },
  {
   "cell_type": "code",
   "execution_count": null,
   "metadata": {},
   "outputs": [],
   "source": [
    "# ----------------------------------------------- Test Data ------------------------------------------------------"
   ]
  },
  {
   "cell_type": "code",
   "execution_count": 17,
   "metadata": {},
   "outputs": [
    {
     "name": "stdout",
     "output_type": "stream",
     "text": [
      "Reading stories to memory ...\n",
      "Done in 0.22569847106933594 s\n"
     ]
    }
   ],
   "source": [
    "test_stories, test_stories_flat = get_stories_as_lists(test_sentences)"
   ]
  },
  {
   "cell_type": "code",
   "execution_count": 18,
   "metadata": {},
   "outputs": [
    {
     "name": "stdout",
     "output_type": "stream",
     "text": [
      "Nb of stories: 1871\n",
      "Example story with right and wrong ending: ['My friends all love to go to the club to dance.', \"They think it's a lot of fun and always invite.\", 'I finally decided to tag along last Saturday.', \"I danced terribly and broke a friend's toe.\", 'My friends decided to keep inviting me out as I am so much fun.', 'The next weekend, I was asked to please stay home.']\n",
      "Nb of sentences per story: 6\n"
     ]
    }
   ],
   "source": [
    "print(\"Nb of stories:\", len(test_stories))\n",
    "print(\"Example story with right and wrong ending:\", test_stories[0])\n",
    "print(\"Nb of sentences per story:\", len(test_stories[0]))"
   ]
  },
  {
   "cell_type": "code",
   "execution_count": 19,
   "metadata": {},
   "outputs": [
    {
     "name": "stdout",
     "output_type": "stream",
     "text": [
      "nb sentences per batch: 2000, nb batches: 6\n",
      "Encoding batch 0 of sentences ...\n",
      "Done in 22.885762929916382 s\n",
      "Encoding batch 1 of sentences ...\n",
      "Done in 23.074304580688477 s\n",
      "Encoding batch 2 of sentences ...\n",
      "Done in 23.042985677719116 s\n",
      "Encoding batch 3 of sentences ...\n",
      "Done in 23.387568473815918 s\n",
      "Encoding batch 4 of sentences ...\n",
      "Done in 23.373992681503296 s\n",
      "Encoding batch 5 of sentences ...\n",
      "Done in 15.123126983642578 s\n",
      "(1871, 6, 4800)\n",
      "[[-0.01622678 -0.01267685 -0.00449958 ... -0.01958963  0.0025401\n",
      "   0.00582471]\n",
      " [ 0.00351208  0.01862131  0.01466644 ... -0.02046947  0.00296836\n",
      "  -0.00029696]\n",
      " [-0.00341649 -0.02440572  0.02018603 ... -0.03569067  0.00320727\n",
      "  -0.00057357]\n",
      " [ 0.02745583 -0.0154904  -0.00947571 ...  0.0108288   0.00337028\n",
      "   0.01885112]\n",
      " [-0.00548592 -0.03024452  0.02510787 ... -0.00660004  0.00243402\n",
      "  -0.00326103]\n",
      " [ 0.00078507 -0.02019084  0.01723271 ... -0.03500823  0.00463203\n",
      "  -0.00075694]]\n"
     ]
    }
   ],
   "source": [
    "test_encoded_stories = encode_stories(encoder, test_stories_flat)\n",
    "print(test_encoded_stories.shape)\n",
    "print(test_encoded_stories[0]) # print story 0 (both endings in the 5th and 6th sentence)"
   ]
  },
  {
   "cell_type": "code",
   "execution_count": 20,
   "metadata": {},
   "outputs": [
    {
     "name": "stdout",
     "output_type": "stream",
     "text": [
      "(1871, 4, 4800)\n",
      "(3742, 4, 4800)\n",
      "(1871, 2, 4800)\n",
      "(3742, 1, 4800)\n",
      "(3742, 5, 4800)\n",
      "[[[-0.01622678 -0.01267685 -0.00449958 ... -0.01958963  0.0025401\n",
      "    0.00582471]\n",
      "  [ 0.00351208  0.01862131  0.01466644 ... -0.02046947  0.00296836\n",
      "   -0.00029696]\n",
      "  [-0.00341649 -0.02440572  0.02018603 ... -0.03569067  0.00320727\n",
      "   -0.00057357]\n",
      "  [ 0.02745583 -0.0154904  -0.00947571 ...  0.0108288   0.00337028\n",
      "    0.01885112]\n",
      "  [-0.00548592 -0.03024452  0.02510787 ... -0.00660004  0.00243402\n",
      "   -0.00326103]]\n",
      "\n",
      " [[-0.01622678 -0.01267685 -0.00449958 ... -0.01958963  0.0025401\n",
      "    0.00582471]\n",
      "  [ 0.00351208  0.01862131  0.01466644 ... -0.02046947  0.00296836\n",
      "   -0.00029696]\n",
      "  [-0.00341649 -0.02440572  0.02018603 ... -0.03569067  0.00320727\n",
      "   -0.00057357]\n",
      "  [ 0.02745583 -0.0154904  -0.00947571 ...  0.0108288   0.00337028\n",
      "    0.01885112]\n",
      "  [ 0.00078507 -0.02019084  0.01723271 ... -0.03500823  0.00463203\n",
      "   -0.00075694]]]\n"
     ]
    }
   ],
   "source": [
    "test_stories_split = split_pos_neg_endings(test_encoded_stories)\n",
    "print(test_stories_split[0:2]) # print same story as before with right and wrong ending on different rows\n",
    "test_answers = np.array(test_answer)"
   ]
  },
  {
   "cell_type": "code",
   "execution_count": null,
   "metadata": {},
   "outputs": [],
   "source": [
    "# ------------------------------------------ Model and Training -----------------------------------------------"
   ]
  },
  {
   "cell_type": "code",
   "execution_count": 21,
   "metadata": {},
   "outputs": [],
   "source": [
    "def create_model():\n",
    "    model = Sequential()\n",
    "    model.add(Dense(units=2400, activation='relu', input_dim=4800))\n",
    "    model.add(Dense(units=1200, activation='relu'))\n",
    "    model.add(Dense(units=600, activation='relu'))\n",
    "    model.add(Dense(units=2, activation='softmax')) # output layer\n",
    "    return model"
   ]
  },
  {
   "cell_type": "code",
   "execution_count": 22,
   "metadata": {},
   "outputs": [
    {
     "name": "stdout",
     "output_type": "stream",
     "text": [
      "(3366, 4800)\n",
      "[[1.]\n",
      " [0.]\n",
      " [1.]\n",
      " ...\n",
      " [1.]\n",
      " [1.]\n",
      " [0.]]\n",
      "[[0. 1.]\n",
      " [1. 0.]\n",
      " [0. 1.]\n",
      " ...\n",
      " [0. 1.]\n",
      " [0. 1.]\n",
      " [1. 0.]]\n"
     ]
    }
   ],
   "source": [
    "# train: last sentence only + ending\n",
    "train_stories_ls = train_stories_split[:, 3] + train_stories_split[:, 4]\n",
    "print(train_stories_ls.shape)\n",
    "train_answers_categorical = keras.utils.to_categorical(train_answers_split, num_classes=2, dtype='float32')\n",
    "print(train_answers_split)\n",
    "print(train_answers_categorical)"
   ]
  },
  {
   "cell_type": "code",
   "execution_count": 23,
   "metadata": {},
   "outputs": [
    {
     "name": "stdout",
     "output_type": "stream",
     "text": [
      "(376, 4800)\n"
     ]
    }
   ],
   "source": [
    "# valid: last sentence only + ending\n",
    "valid_stories_ls = valid_stories_split[:, 3] + valid_stories_split[:, 4]\n",
    "print(valid_stories_ls.shape)"
   ]
  },
  {
   "cell_type": "code",
   "execution_count": 24,
   "metadata": {},
   "outputs": [
    {
     "name": "stdout",
     "output_type": "stream",
     "text": [
      "(3742, 4800)\n"
     ]
    }
   ],
   "source": [
    "# test: last sentence only + ending\n",
    "test_stories_ls = test_stories_split[:, 3] + test_stories_split[:, 4]\n",
    "print(test_stories_ls.shape)"
   ]
  },
  {
   "cell_type": "code",
   "execution_count": 25,
   "metadata": {},
   "outputs": [],
   "source": [
    "tb_callback = keras.callbacks.TensorBoard(log_dir='./logs')"
   ]
  },
  {
   "cell_type": "code",
   "execution_count": 26,
   "metadata": {},
   "outputs": [],
   "source": [
    "class AccuracyCallback(keras.callbacks.Callback):\n",
    "    def on_epoch_end(self, batch, logs={}):\n",
    "        valid_pred = self.get_predicted_right_endings(valid_stories_ls)\n",
    "        test_pred = self.get_predicted_right_endings(test_stories_ls)\n",
    "        \n",
    "        print(\"Validation:\")\n",
    "#         print(\"   Predicted endings:\", valid_pred)\n",
    "#         print(\"   Correct endings:\", valid_answers)\n",
    "        acc = accuracy(valid_answers, valid_pred)\n",
    "        print(\"   Accuracy: {}\".format(acc))\n",
    "        \n",
    "        print(\"Test:\")\n",
    "#         print(\"   Predicted endings:\", test_pred)\n",
    "#         print(\"   Correct endings:\", test_answers)\n",
    "        acc = accuracy(test_answers, test_pred)\n",
    "        print(\"   Accuracy: {}\".format(acc))\n",
    "\n",
    "    def get_predicted_right_endings(self, data):\n",
    "        preds = model.predict(data)\n",
    "        preds_endings = []\n",
    "        for i in range(preds.shape[0]//2):\n",
    "            if(preds[2*i][1] > preds[2*i+1][1]): # if the first ending is \"more right\" then the second ending\n",
    "                preds_endings.append(1)\n",
    "            else:\n",
    "                preds_endings.append(2)\n",
    "        return np.array(preds_endings)\n",
    "        \n",
    "AccCb = AccuracyCallback()"
   ]
  },
  {
   "cell_type": "code",
   "execution_count": 27,
   "metadata": {},
   "outputs": [
    {
     "name": "stdout",
     "output_type": "stream",
     "text": [
      "WARNING:tensorflow:From /home/ubuntu/anaconda3/lib/python3.6/site-packages/tensorflow/python/framework/op_def_library.py:263: colocate_with (from tensorflow.python.framework.ops) is deprecated and will be removed in a future version.\n",
      "Instructions for updating:\n",
      "Colocations handled automatically by placer.\n",
      "WARNING:tensorflow:From /home/ubuntu/anaconda3/lib/python3.6/site-packages/tensorflow/python/ops/math_ops.py:3066: to_int32 (from tensorflow.python.ops.math_ops) is deprecated and will be removed in a future version.\n",
      "Instructions for updating:\n",
      "Use tf.cast instead.\n",
      "Epoch 1/50\n",
      "3366/3366 [==============================] - 3s 774us/step - loss: 0.6960\n",
      "Validation:\n",
      "   Accuracy: 0.6968085106382979\n",
      "Test:\n",
      "   Accuracy: 0.7113842864778194\n",
      "Epoch 2/50\n",
      "3366/3366 [==============================] - 2s 633us/step - loss: 0.6755\n",
      "Validation:\n",
      "   Accuracy: 0.7074468085106383\n",
      "Test:\n",
      "   Accuracy: 0.7151256012827365\n",
      "Epoch 3/50\n",
      "3366/3366 [==============================] - 2s 634us/step - loss: 0.6429\n",
      "Validation:\n",
      "   Accuracy: 0.723404255319149\n",
      "Test:\n",
      "   Accuracy: 0.7268840192410476\n",
      "Epoch 4/50\n",
      "3366/3366 [==============================] - 2s 624us/step - loss: 0.6216\n",
      "Validation:\n",
      "   Accuracy: 0.7393617021276596\n",
      "Test:\n",
      "   Accuracy: 0.7343666488508819\n",
      "Epoch 5/50\n",
      "3366/3366 [==============================] - 2s 625us/step - loss: 0.5966\n",
      "Validation:\n",
      "   Accuracy: 0.723404255319149\n",
      "Test:\n",
      "   Accuracy: 0.738107963655799\n",
      "Epoch 6/50\n",
      "3366/3366 [==============================] - 2s 625us/step - loss: 0.5689\n",
      "Validation:\n",
      "   Accuracy: 0.7340425531914894\n",
      "Test:\n",
      "   Accuracy: 0.7343666488508819\n",
      "Epoch 7/50\n",
      "3366/3366 [==============================] - 2s 626us/step - loss: 0.5309\n",
      "Validation:\n",
      "   Accuracy: 0.7712765957446809\n",
      "Test:\n",
      "   Accuracy: 0.7621592731159808\n",
      "Epoch 8/50\n",
      "3366/3366 [==============================] - 2s 626us/step - loss: 0.4917\n",
      "Validation:\n",
      "   Accuracy: 0.7712765957446809\n",
      "Test:\n",
      "   Accuracy: 0.757883484767504\n",
      "Epoch 9/50\n",
      "3366/3366 [==============================] - 2s 624us/step - loss: 0.4478\n",
      "Validation:\n",
      "   Accuracy: 0.7819148936170213\n",
      "Test:\n",
      "   Accuracy: 0.7744521646178514\n",
      "Epoch 10/50\n",
      "3366/3366 [==============================] - 2s 623us/step - loss: 0.4153\n",
      "Validation:\n",
      "   Accuracy: 0.7659574468085106\n",
      "Test:\n",
      "   Accuracy: 0.7626937466595404\n",
      "Epoch 11/50\n",
      "3366/3366 [==============================] - 2s 625us/step - loss: 0.3771\n",
      "Validation:\n",
      "   Accuracy: 0.776595744680851\n",
      "Test:\n",
      "   Accuracy: 0.7685729556386959\n",
      "Epoch 12/50\n",
      "3366/3366 [==============================] - 2s 624us/step - loss: 0.3531\n",
      "Validation:\n",
      "   Accuracy: 0.7659574468085106\n",
      "Test:\n",
      "   Accuracy: 0.746125066809193\n",
      "Epoch 13/50\n",
      "3366/3366 [==============================] - 2s 625us/step - loss: 0.3104\n",
      "Validation:\n",
      "   Accuracy: 0.7925531914893617\n",
      "Test:\n",
      "   Accuracy: 0.7504008551576697\n",
      "Epoch 14/50\n",
      "3366/3366 [==============================] - 2s 624us/step - loss: 0.2700\n",
      "Validation:\n",
      "   Accuracy: 0.8031914893617021\n",
      "Test:\n",
      "   Accuracy: 0.7675040085515767\n",
      "Epoch 15/50\n",
      "3366/3366 [==============================] - 2s 624us/step - loss: 0.2227\n",
      "Validation:\n",
      "   Accuracy: 0.8031914893617021\n",
      "Test:\n",
      "   Accuracy: 0.7642971672902191\n",
      "Epoch 16/50\n",
      "3366/3366 [==============================] - 2s 626us/step - loss: 0.2067\n",
      "Validation:\n",
      "   Accuracy: 0.7712765957446809\n",
      "Test:\n",
      "   Accuracy: 0.7530732228754676\n",
      "Epoch 17/50\n",
      "3366/3366 [==============================] - 2s 627us/step - loss: 0.1719\n",
      "Validation:\n",
      "   Accuracy: 0.7819148936170213\n",
      "Test:\n",
      "   Accuracy: 0.7402458578300374\n",
      "Epoch 18/50\n",
      "3366/3366 [==============================] - 2s 623us/step - loss: 0.1351\n",
      "Validation:\n",
      "   Accuracy: 0.7819148936170213\n",
      "Test:\n",
      "   Accuracy: 0.7482629609834314\n",
      "Epoch 19/50\n",
      "3366/3366 [==============================] - 2s 624us/step - loss: 0.1172\n",
      "Validation:\n",
      "   Accuracy: 0.8138297872340425\n",
      "Test:\n",
      "   Accuracy: 0.7514698022447889\n",
      "Epoch 20/50\n",
      "3366/3366 [==============================] - 2s 623us/step - loss: 0.0942\n",
      "Validation:\n",
      "   Accuracy: 0.7659574468085106\n",
      "Test:\n",
      "   Accuracy: 0.7541421699625869\n",
      "Epoch 21/50\n",
      "3366/3366 [==============================] - 2s 641us/step - loss: 0.0765\n",
      "Validation:\n",
      "   Accuracy: 0.7553191489361702\n",
      "Test:\n",
      "   Accuracy: 0.7391769107429182\n",
      "Epoch 22/50\n",
      "3366/3366 [==============================] - 2s 644us/step - loss: 0.0733\n",
      "Validation:\n",
      "   Accuracy: 0.8138297872340425\n",
      "Test:\n",
      "   Accuracy: 0.7589524318546232\n",
      "Epoch 23/50\n",
      "3366/3366 [==============================] - 2s 630us/step - loss: 0.1028\n",
      "Validation:\n",
      "   Accuracy: 0.7659574468085106\n",
      "Test:\n",
      "   Accuracy: 0.7498663816141101\n",
      "Epoch 24/50\n",
      "3366/3366 [==============================] - 2s 629us/step - loss: 0.0599\n",
      "Validation:\n",
      "   Accuracy: 0.7606382978723404\n",
      "Test:\n",
      "   Accuracy: 0.740780331373597\n",
      "Epoch 25/50\n",
      "3366/3366 [==============================] - 2s 630us/step - loss: 0.0516\n",
      "Validation:\n",
      "   Accuracy: 0.7553191489361702\n",
      "Test:\n",
      "   Accuracy: 0.7402458578300374\n",
      "Epoch 26/50\n",
      "3366/3366 [==============================] - 2s 630us/step - loss: 0.0538\n",
      "Validation:\n",
      "   Accuracy: 0.7659574468085106\n",
      "Test:\n",
      "   Accuracy: 0.740780331373597\n",
      "Epoch 27/50\n",
      "3366/3366 [==============================] - 2s 624us/step - loss: 0.0401\n",
      "Validation:\n",
      "   Accuracy: 0.7553191489361702\n",
      "Test:\n",
      "   Accuracy: 0.7429182255478354\n",
      "Epoch 28/50\n",
      "3366/3366 [==============================] - 2s 624us/step - loss: 0.0306\n",
      "Validation:\n",
      "   Accuracy: 0.7446808510638298\n",
      "Test:\n",
      "   Accuracy: 0.746125066809193\n",
      "Epoch 29/50\n",
      "3366/3366 [==============================] - 2s 633us/step - loss: 0.0244\n",
      "Validation:\n",
      "   Accuracy: 0.7553191489361702\n",
      "Test:\n",
      "   Accuracy: 0.7445216461785141\n",
      "Epoch 30/50\n",
      "3366/3366 [==============================] - 2s 625us/step - loss: 0.0577\n",
      "Validation:\n",
      "   Accuracy: 0.7925531914893617\n",
      "Test:\n",
      "   Accuracy: 0.7455905932656334\n",
      "Epoch 31/50\n",
      "3366/3366 [==============================] - 2s 623us/step - loss: 0.0331\n",
      "Validation:\n",
      "   Accuracy: 0.776595744680851\n",
      "Test:\n",
      "   Accuracy: 0.7413148049171566\n",
      "Epoch 32/50\n",
      "3366/3366 [==============================] - 2s 635us/step - loss: 0.0283\n",
      "Validation:\n",
      "   Accuracy: 0.7659574468085106\n",
      "Test:\n",
      "   Accuracy: 0.7413148049171566\n",
      "Epoch 33/50\n",
      "3366/3366 [==============================] - 2s 630us/step - loss: 0.0557\n",
      "Validation:\n",
      "   Accuracy: 0.776595744680851\n",
      "Test:\n",
      "   Accuracy: 0.7471940138963121\n",
      "Epoch 34/50\n",
      "3366/3366 [==============================] - 2s 623us/step - loss: 0.0298\n",
      "Validation:\n",
      "   Accuracy: 0.776595744680851\n",
      "Test:\n",
      "   Accuracy: 0.7439871726349546\n",
      "Epoch 35/50\n",
      "3366/3366 [==============================] - 2s 630us/step - loss: 0.0231\n",
      "Validation:\n",
      "   Accuracy: 0.7553191489361702\n",
      "Test:\n",
      "   Accuracy: 0.740780331373597\n",
      "Epoch 36/50\n",
      "3366/3366 [==============================] - 2s 622us/step - loss: 0.0550\n",
      "Validation:\n",
      "   Accuracy: 0.7819148936170213\n",
      "Test:\n",
      "   Accuracy: 0.7487974345269909\n",
      "Epoch 37/50\n",
      "3366/3366 [==============================] - 2s 625us/step - loss: 0.0177\n",
      "Validation:\n",
      "   Accuracy: 0.7659574468085106\n",
      "Test:\n",
      "   Accuracy: 0.7423837520042758\n",
      "Epoch 38/50\n",
      "3366/3366 [==============================] - 2s 624us/step - loss: 0.0079\n",
      "Validation:\n",
      "   Accuracy: 0.7393617021276596\n",
      "Test:\n",
      "   Accuracy: 0.7471940138963121\n",
      "Epoch 39/50\n",
      "3366/3366 [==============================] - 2s 623us/step - loss: 0.0289\n",
      "Validation:\n",
      "   Accuracy: 0.75\n",
      "Test:\n",
      "   Accuracy: 0.740780331373597\n",
      "Epoch 40/50\n",
      "3366/3366 [==============================] - 2s 633us/step - loss: 0.0356\n",
      "Validation:\n",
      "   Accuracy: 0.75\n",
      "Test:\n",
      "   Accuracy: 0.740780331373597\n",
      "Epoch 41/50\n",
      "3366/3366 [==============================] - 2s 630us/step - loss: 0.0374\n",
      "Validation:\n",
      "   Accuracy: 0.7606382978723404\n",
      "Test:\n",
      "   Accuracy: 0.7530732228754676\n",
      "Epoch 42/50\n",
      "3366/3366 [==============================] - 2s 636us/step - loss: 0.0423\n",
      "Validation:\n",
      "   Accuracy: 0.7287234042553191\n",
      "Test:\n",
      "   Accuracy: 0.7359700694815606\n",
      "Epoch 43/50\n",
      "3366/3366 [==============================] - 2s 653us/step - loss: 0.0820\n",
      "Validation:\n",
      "   Accuracy: 0.776595744680851\n",
      "Test:\n",
      "   Accuracy: 0.7439871726349546\n",
      "Epoch 44/50\n",
      "3366/3366 [==============================] - 2s 650us/step - loss: 0.0461\n",
      "Validation:\n",
      "   Accuracy: 0.7553191489361702\n",
      "Test:\n",
      "   Accuracy: 0.7311598075895244\n",
      "Epoch 45/50\n",
      "3366/3366 [==============================] - 2s 629us/step - loss: 0.0405\n",
      "Validation:\n",
      "   Accuracy: 0.776595744680851\n",
      "Test:\n",
      "   Accuracy: 0.7445216461785141\n",
      "Epoch 46/50\n",
      "3366/3366 [==============================] - 2s 625us/step - loss: 0.0293\n",
      "Validation:\n",
      "   Accuracy: 0.7819148936170213\n",
      "Test:\n",
      "   Accuracy: 0.7466595403527525\n",
      "Epoch 47/50\n"
     ]
    },
    {
     "name": "stdout",
     "output_type": "stream",
     "text": [
      "3366/3366 [==============================] - 2s 618us/step - loss: 0.0586\n",
      "Validation:\n",
      "   Accuracy: 0.7553191489361702\n",
      "Test:\n",
      "   Accuracy: 0.7359700694815606\n",
      "Epoch 48/50\n",
      "3366/3366 [==============================] - 2s 619us/step - loss: 0.0284\n",
      "Validation:\n",
      "   Accuracy: 0.7659574468085106\n",
      "Test:\n",
      "   Accuracy: 0.7498663816141101\n",
      "Epoch 49/50\n",
      "3366/3366 [==============================] - 2s 618us/step - loss: 0.0233\n",
      "Validation:\n",
      "   Accuracy: 0.7553191489361702\n",
      "Test:\n",
      "   Accuracy: 0.743452699091395\n",
      "Epoch 50/50\n",
      "3366/3366 [==============================] - 2s 618us/step - loss: 0.0295\n",
      "Validation:\n",
      "   Accuracy: 0.7553191489361702\n",
      "Test:\n",
      "   Accuracy: 0.7386424371993586\n"
     ]
    },
    {
     "data": {
      "text/plain": [
       "<keras.callbacks.History at 0x7f3c0ef05668>"
      ]
     },
     "execution_count": 27,
     "metadata": {},
     "output_type": "execute_result"
    }
   ],
   "source": [
    "model = create_model()\n",
    "model.compile(loss='categorical_crossentropy',\n",
    "              optimizer=keras.optimizers.Adam(lr=0.001))\n",
    "model.fit(train_stories_ls, train_answers_categorical, epochs=50, batch_size=32, \n",
    "          callbacks=[tb_callback, AccCb])"
   ]
  }
 ],
 "metadata": {
  "kernelspec": {
   "display_name": "Python 3",
   "language": "python",
   "name": "python3"
  },
  "language_info": {
   "codemirror_mode": {
    "name": "ipython",
    "version": 3
   },
   "file_extension": ".py",
   "mimetype": "text/x-python",
   "name": "python",
   "nbconvert_exporter": "python",
   "pygments_lexer": "ipython3",
   "version": "3.5.2"
  }
 },
 "nbformat": 4,
 "nbformat_minor": 2
}
